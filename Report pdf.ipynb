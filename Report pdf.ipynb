{
    "cells": [
        {
            "metadata": {},
            "cell_type": "code",
            "source": "from IPython.display import IFrame\nIFrame(\"https://github.com/user/first.pdf\", width=900, height=800)",
            "execution_count": 5,
            "outputs": [
                {
                    "output_type": "execute_result",
                    "execution_count": 5,
                    "data": {
                        "text/plain": "<IPython.lib.display.IFrame at 0x7f94527c86a0>",
                        "text/html": "\n        <iframe\n            width=\"900\"\n            height=\"800\"\n            src=\"https://github.com/user/first.pdf\"\n            frameborder=\"0\"\n            allowfullscreen\n        ></iframe>\n        "
                    },
                    "metadata": {}
                }
            ]
        },
        {
            "metadata": {},
            "cell_type": "code",
            "source": "",
            "execution_count": null,
            "outputs": []
        }
    ],
    "metadata": {
        "kernelspec": {
            "name": "python3",
            "display_name": "Python 3.6",
            "language": "python"
        },
        "language_info": {
            "name": "python",
            "version": "3.6.9",
            "mimetype": "text/x-python",
            "codemirror_mode": {
                "name": "ipython",
                "version": 3
            },
            "pygments_lexer": "ipython3",
            "nbconvert_exporter": "python",
            "file_extension": ".py"
        }
    },
    "nbformat": 4,
    "nbformat_minor": 1
}